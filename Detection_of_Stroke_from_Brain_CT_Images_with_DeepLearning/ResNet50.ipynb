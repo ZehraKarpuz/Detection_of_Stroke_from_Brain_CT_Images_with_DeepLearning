{
 "cells": [
  {
   "cell_type": "code",
   "execution_count": 2,
   "id": "9539ecd0",
   "metadata": {},
   "outputs": [
    {
     "name": "stdout",
     "output_type": "stream",
     "text": [
      "Collecting opencv-python\n",
      "  Downloading opencv_python-4.5.2.54-cp38-cp38-win_amd64.whl (34.7 MB)\n",
      "Requirement already satisfied: numpy>=1.17.3 in c:\\users\\tri\\anaconda3\\lib\\site-packages (from opencv-python) (1.20.1)\n",
      "Installing collected packages: opencv-python\n",
      "Successfully installed opencv-python-4.5.2.54\n",
      "Note: you may need to restart the kernel to use updated packages.\n"
     ]
    }
   ],
   "source": [
    "pip install opencv-python"
   ]
  },
  {
   "cell_type": "code",
   "execution_count": 45,
   "id": "582f59b1",
   "metadata": {},
   "outputs": [
    {
     "name": "stdout",
     "output_type": "stream",
     "text": [
      "Requirement already satisfied: tensorflow==2.5.0 in c:\\users\\tri\\anaconda3\\lib\\site-packages (2.5.0)\n",
      "Requirement already satisfied: wheel~=0.35 in c:\\users\\tri\\anaconda3\\lib\\site-packages (from tensorflow==2.5.0) (0.36.2)\n",
      "Requirement already satisfied: absl-py~=0.10 in c:\\users\\tri\\anaconda3\\lib\\site-packages (from tensorflow==2.5.0) (0.13.0)\n",
      "Requirement already satisfied: six~=1.15.0 in c:\\users\\tri\\anaconda3\\lib\\site-packages (from tensorflow==2.5.0) (1.15.0)\n",
      "Requirement already satisfied: typing-extensions~=3.7.4 in c:\\users\\tri\\anaconda3\\lib\\site-packages (from tensorflow==2.5.0) (3.7.4.3)\n",
      "Requirement already satisfied: grpcio~=1.34.0 in c:\\users\\tri\\anaconda3\\lib\\site-packages (from tensorflow==2.5.0) (1.34.1)\n",
      "Requirement already satisfied: google-pasta~=0.2 in c:\\users\\tri\\anaconda3\\lib\\site-packages (from tensorflow==2.5.0) (0.2.0)\n",
      "Requirement already satisfied: opt-einsum~=3.3.0 in c:\\users\\tri\\anaconda3\\lib\\site-packages (from tensorflow==2.5.0) (3.3.0)\n",
      "Requirement already satisfied: gast==0.4.0 in c:\\users\\tri\\anaconda3\\lib\\site-packages (from tensorflow==2.5.0) (0.4.0)\n",
      "Requirement already satisfied: tensorboard~=2.5 in c:\\users\\tri\\anaconda3\\lib\\site-packages (from tensorflow==2.5.0) (2.5.0)\n",
      "Requirement already satisfied: astunparse~=1.6.3 in c:\\users\\tri\\anaconda3\\lib\\site-packages (from tensorflow==2.5.0) (1.6.3)\n",
      "Requirement already satisfied: keras-nightly~=2.5.0.dev in c:\\users\\tri\\anaconda3\\lib\\site-packages (from tensorflow==2.5.0) (2.5.0.dev2021032900)\n",
      "Requirement already satisfied: tensorflow-estimator<2.6.0,>=2.5.0rc0 in c:\\users\\tri\\anaconda3\\lib\\site-packages (from tensorflow==2.5.0) (2.5.0)\n",
      "Requirement already satisfied: wrapt~=1.12.1 in c:\\users\\tri\\anaconda3\\lib\\site-packages (from tensorflow==2.5.0) (1.12.1)\n",
      "Requirement already satisfied: keras-preprocessing~=1.1.2 in c:\\users\\tri\\anaconda3\\lib\\site-packages (from tensorflow==2.5.0) (1.1.2)\n",
      "Requirement already satisfied: h5py~=3.1.0 in c:\\users\\tri\\anaconda3\\lib\\site-packages (from tensorflow==2.5.0) (3.1.0)\n",
      "Requirement already satisfied: protobuf>=3.9.2 in c:\\users\\tri\\anaconda3\\lib\\site-packages (from tensorflow==2.5.0) (3.17.3)\n",
      "Requirement already satisfied: termcolor~=1.1.0 in c:\\users\\tri\\anaconda3\\lib\\site-packages (from tensorflow==2.5.0) (1.1.0)\n",
      "Requirement already satisfied: flatbuffers~=1.12.0 in c:\\users\\tri\\anaconda3\\lib\\site-packages (from tensorflow==2.5.0) (1.12)\n",
      "Requirement already satisfied: numpy~=1.19.2 in c:\\users\\tri\\anaconda3\\lib\\site-packages (from tensorflow==2.5.0) (1.19.5)\n",
      "Requirement already satisfied: tensorboard-data-server<0.7.0,>=0.6.0 in c:\\users\\tri\\anaconda3\\lib\\site-packages (from tensorboard~=2.5->tensorflow==2.5.0) (0.6.1)\n",
      "Requirement already satisfied: tensorboard-plugin-wit>=1.6.0 in c:\\users\\tri\\anaconda3\\lib\\site-packages (from tensorboard~=2.5->tensorflow==2.5.0) (1.8.0)\n",
      "Requirement already satisfied: requests<3,>=2.21.0 in c:\\users\\tri\\anaconda3\\lib\\site-packages (from tensorboard~=2.5->tensorflow==2.5.0) (2.25.1)\n",
      "Requirement already satisfied: google-auth<2,>=1.6.3 in c:\\users\\tri\\anaconda3\\lib\\site-packages (from tensorboard~=2.5->tensorflow==2.5.0) (1.32.0)\n",
      "Requirement already satisfied: google-auth-oauthlib<0.5,>=0.4.1 in c:\\users\\tri\\anaconda3\\lib\\site-packages (from tensorboard~=2.5->tensorflow==2.5.0) (0.4.4)\n",
      "Requirement already satisfied: markdown>=2.6.8 in c:\\users\\tri\\anaconda3\\lib\\site-packages (from tensorboard~=2.5->tensorflow==2.5.0) (3.3.4)\n",
      "Requirement already satisfied: werkzeug>=0.11.15 in c:\\users\\tri\\anaconda3\\lib\\site-packages (from tensorboard~=2.5->tensorflow==2.5.0) (1.0.1)\n",
      "Requirement already satisfied: setuptools>=41.0.0 in c:\\users\\tri\\anaconda3\\lib\\site-packages (from tensorboard~=2.5->tensorflow==2.5.0) (52.0.0.post20210125)\n",
      "Requirement already satisfied: pyasn1-modules>=0.2.1 in c:\\users\\tri\\anaconda3\\lib\\site-packages (from google-auth<2,>=1.6.3->tensorboard~=2.5->tensorflow==2.5.0) (0.2.8)\n",
      "Requirement already satisfied: rsa<5,>=3.1.4 in c:\\users\\tri\\anaconda3\\lib\\site-packages (from google-auth<2,>=1.6.3->tensorboard~=2.5->tensorflow==2.5.0) (4.7.2)\n",
      "Requirement already satisfied: cachetools<5.0,>=2.0.0 in c:\\users\\tri\\anaconda3\\lib\\site-packages (from google-auth<2,>=1.6.3->tensorboard~=2.5->tensorflow==2.5.0) (4.2.2)\n",
      "Requirement already satisfied: requests-oauthlib>=0.7.0 in c:\\users\\tri\\anaconda3\\lib\\site-packages (from google-auth-oauthlib<0.5,>=0.4.1->tensorboard~=2.5->tensorflow==2.5.0) (1.3.0)\n",
      "Requirement already satisfied: pyasn1<0.5.0,>=0.4.6 in c:\\users\\tri\\anaconda3\\lib\\site-packages (from pyasn1-modules>=0.2.1->google-auth<2,>=1.6.3->tensorboard~=2.5->tensorflow==2.5.0) (0.4.8)\n",
      "Requirement already satisfied: certifi>=2017.4.17 in c:\\users\\tri\\anaconda3\\lib\\site-packages (from requests<3,>=2.21.0->tensorboard~=2.5->tensorflow==2.5.0) (2020.12.5)\n",
      "Requirement already satisfied: idna<3,>=2.5 in c:\\users\\tri\\anaconda3\\lib\\site-packages (from requests<3,>=2.21.0->tensorboard~=2.5->tensorflow==2.5.0) (2.10)\n",
      "Requirement already satisfied: urllib3<1.27,>=1.21.1 in c:\\users\\tri\\anaconda3\\lib\\site-packages (from requests<3,>=2.21.0->tensorboard~=2.5->tensorflow==2.5.0) (1.26.4)\n",
      "Requirement already satisfied: chardet<5,>=3.0.2 in c:\\users\\tri\\anaconda3\\lib\\site-packages (from requests<3,>=2.21.0->tensorboard~=2.5->tensorflow==2.5.0) (4.0.0)\n",
      "Requirement already satisfied: oauthlib>=3.0.0 in c:\\users\\tri\\anaconda3\\lib\\site-packages (from requests-oauthlib>=0.7.0->google-auth-oauthlib<0.5,>=0.4.1->tensorboard~=2.5->tensorflow==2.5.0) (3.1.1)\n",
      "Note: you may need to restart the kernel to use updated packages.\n"
     ]
    }
   ],
   "source": [
    "pip install tensorflow==2.5.0"
   ]
  },
  {
   "cell_type": "code",
   "execution_count": 2,
   "id": "db8340e9",
   "metadata": {},
   "outputs": [
    {
     "name": "stdout",
     "output_type": "stream",
     "text": [
      "Requirement already satisfied: keras==2.4.3 in c:\\users\\tri\\anaconda3\\lib\\site-packages (2.4.3)\n",
      "Requirement already satisfied: pyyaml in c:\\users\\tri\\anaconda3\\lib\\site-packages (from keras==2.4.3) (5.4.1)\n",
      "Requirement already satisfied: numpy>=1.9.1 in c:\\users\\tri\\anaconda3\\lib\\site-packages (from keras==2.4.3) (1.19.5)\n",
      "Requirement already satisfied: scipy>=0.14 in c:\\users\\tri\\anaconda3\\lib\\site-packages (from keras==2.4.3) (1.6.2)\n",
      "Requirement already satisfied: h5py in c:\\users\\tri\\anaconda3\\lib\\site-packages (from keras==2.4.3) (3.1.0)\n",
      "Note: you may need to restart the kernel to use updated packages.\n"
     ]
    }
   ],
   "source": [
    "pip install keras==2.4.3"
   ]
  },
  {
   "cell_type": "code",
   "execution_count": 1,
   "id": "a16beea1",
   "metadata": {
    "id": "a16beea1"
   },
   "outputs": [],
   "source": [
    "import numpy as np\n",
    "import pandas as pd\n",
    "\n",
    "import matplotlib.pyplot as plt\n",
    "%matplotlib inline \n",
    "\n",
    "import cv2\n",
    "\n",
    "import os"
   ]
  },
  {
   "cell_type": "code",
   "execution_count": 10,
   "id": "2825b227",
   "metadata": {
    "id": "2825b227"
   },
   "outputs": [],
   "source": [
    "NUM_CLASSES = 3 #3 sınıf\n",
    "CHANNELS = 3 # görüntü renk kanalı\n",
    "\n",
    "IMAGE_RESIZE = 224\n",
    "RESNET50_POOLING_AVERAGE = 'avg'\n",
    "DENSE_LAYER_ACTIVATION = 'softmax'\n",
    "OBJECTIVE_FUNCTION = 'categorical_crossentropy'\n",
    "LOSS_METRICS = ['accuracy']\n",
    "NUM_EPOCHS = 10\n",
    "EARLY_STOP_PATIENCE = 3\n",
    "BATCH_SIZE_TRAINING=32\n",
    "BATCH_SIZE_VALIDATION=32\n",
    "BATCH_SIZE_TESTING=1\n",
    "#STEPS_PER_EPOCH_TRAINING = 376\n",
    "#STEPS_PER_EPOCH_VALIDATION = 34"
   ]
  },
  {
   "cell_type": "code",
   "execution_count": 3,
   "id": "9ea6f2be",
   "metadata": {
    "id": "9ea6f2be"
   },
   "outputs": [],
   "source": [
    "import tensorflow \n",
    "from tensorflow .keras.applications import ResNet50\n",
    "from tensorflow .keras.models import Sequential\n",
    "from tensorflow .keras.layers import Dense,Dropout"
   ]
  },
  {
   "cell_type": "code",
   "execution_count": 4,
   "id": "3c06576a",
   "metadata": {
    "id": "3c06576a"
   },
   "outputs": [],
   "source": [
    "resnet_weights_path ='imagenet'"
   ]
  },
  {
   "cell_type": "code",
   "execution_count": 5,
   "id": "7d7dc2b8",
   "metadata": {
    "id": "7d7dc2b8"
   },
   "outputs": [],
   "source": [
    "model = Sequential()\n",
    "model.add(ResNet50(include_top = False, pooling = RESNET50_POOLING_AVERAGE,#pooling=GlobalAveragePooling2D,\n",
    "                   weights = resnet_weights_path))\n",
    "model.add(Dense(NUM_CLASSES, activation = DENSE_LAYER_ACTIVATION))\n",
    "#model.add(Dense(1024,activation='relu'))\n",
    "#model.add(Dropout(0.5))\n",
    "model.layers[0].trainable = False"
   ]
  },
  {
   "cell_type": "code",
   "execution_count": 6,
   "id": "c33a3f0a",
   "metadata": {
    "id": "c33a3f0a",
    "outputId": "11d3baa0-60ef-4e85-ed64-4e06c231ac9e"
   },
   "outputs": [
    {
     "name": "stdout",
     "output_type": "stream",
     "text": [
      "Model: \"sequential\"\n",
      "_________________________________________________________________\n",
      " Layer (type)                Output Shape              Param #   \n",
      "=================================================================\n",
      " resnet50 (Functional)       (None, 2048)              23587712  \n",
      "                                                                 \n",
      " dense (Dense)               (None, 3)                 6147      \n",
      "                                                                 \n",
      "=================================================================\n",
      "Total params: 23,593,859\n",
      "Trainable params: 6,147\n",
      "Non-trainable params: 23,587,712\n",
      "_________________________________________________________________\n"
     ]
    }
   ],
   "source": [
    "model.summary()"
   ]
  },
  {
   "cell_type": "code",
   "execution_count": 7,
   "id": "e8322af8",
   "metadata": {
    "id": "e8322af8"
   },
   "outputs": [],
   "source": [
    "from tensorflow.keras import optimizers\n",
    "\n",
    "sgd = optimizers.SGD(learning_rate = 0.01, decay = 1e-6, momentum = 0.9, nesterov = True)\n",
    "model.compile(optimizer = sgd, loss = OBJECTIVE_FUNCTION, metrics = LOSS_METRICS)"
   ]
  },
  {
   "cell_type": "code",
   "execution_count": 11,
   "id": "880c3412",
   "metadata": {
    "id": "880c3412",
    "outputId": "3c1c6fa0-646d-491e-cdd7-0d7061b93b93"
   },
   "outputs": [
    {
     "name": "stdout",
     "output_type": "stream",
     "text": [
      "Found 5318 images belonging to 3 classes.\n",
      "Found 996 images belonging to 3 classes.\n"
     ]
    }
   ],
   "source": [
    "from tensorflow.keras.applications.resnet50 import preprocess_input\n",
    "from keras.preprocessing.image import ImageDataGenerator\n",
    "path=r'C:\\\\Users\\\\Tri\\\\Desktop\\\\preprocessDataSet\\\\'\n",
    "train_data_dir= path+'train\\\\'\n",
    "validation_data_dir= path+ 'val\\\\'\n",
    "image_size = IMAGE_RESIZE\n",
    "data_generator = ImageDataGenerator(preprocessing_function=preprocess_input)\n",
    "train_generator = data_generator.flow_from_directory(\n",
    "        train_data_dir,\n",
    "        target_size=(image_size, image_size),\n",
    "        batch_size=BATCH_SIZE_TRAINING,\n",
    "        class_mode='categorical')\n",
    "validation_generator = data_generator.flow_from_directory(\n",
    "        validation_data_dir,\n",
    "        target_size=(image_size, image_size),\n",
    "        batch_size=BATCH_SIZE_VALIDATION,\n",
    "        class_mode='categorical') "
   ]
  },
  {
   "cell_type": "code",
   "execution_count": 12,
   "id": "07fb0ea9",
   "metadata": {},
   "outputs": [],
   "source": [
    "STEPS_PER_EPOCH_TRAINING=train_generator.n//train_generator.batch_size+1\n",
    "STEPS_PER_EPOCH_VALIDATION=validation_generator.n//validation_generator.batch_size+1"
   ]
  },
  {
   "cell_type": "code",
   "execution_count": 13,
   "id": "27b443f8",
   "metadata": {
    "id": "27b443f8"
   },
   "outputs": [],
   "source": [
    "from tensorflow.python.keras.callbacks import EarlyStopping, ModelCheckpoint,ReduceLROnPlateau\n",
    "cb_early_stopper = EarlyStopping(monitor = 'val_loss', patience = EARLY_STOP_PATIENCE,restore_best_weights=True)\n",
    "cb_checkpointer = ModelCheckpoint(filepath = 'Ensemble_strokeResNet.h5', monitor = 'val_loss', save_best_only = True, mode = 'min',\n",
    "                                  verbose=1)\n",
    "lr=ReduceLROnPlateau(monitor='val_loss',factor=0.1,patience=5,verbose=2,mode='max')"
   ]
  },
  {
   "cell_type": "code",
   "execution_count": 14,
   "id": "2f1146b4",
   "metadata": {
    "id": "2f1146b4",
    "outputId": "1c76181d-9a2a-4242-aa8d-725779884f2c",
    "scrolled": true
   },
   "outputs": [
    {
     "name": "stdout",
     "output_type": "stream",
     "text": [
      "Epoch 1/10\n",
      "167/167 [==============================] - ETA: 0s - loss: 1.4142 - accuracy: 0.7343\n",
      "Epoch 00001: val_loss improved from inf to 0.59509, saving model to Ensemble_strokeResNet.h5\n"
     ]
    },
    {
     "name": "stderr",
     "output_type": "stream",
     "text": [
      "C:\\Users\\Tri\\anaconda3\\lib\\site-packages\\keras\\engine\\functional.py:1410: CustomMaskWarning: Custom mask layers require a config and must override get_config. When loading, the custom mask layer must be passed to the custom_objects argument.\n",
      "  layer_config = serialize_layer_fn(layer)\n"
     ]
    },
    {
     "name": "stdout",
     "output_type": "stream",
     "text": [
      "167/167 [==============================] - 302s 2s/step - loss: 1.4142 - accuracy: 0.7343 - val_loss: 0.5951 - val_accuracy: 0.8474 - lr: 0.0100\n",
      "Epoch 2/10\n",
      "167/167 [==============================] - ETA: 0s - loss: 0.6716 - accuracy: 0.8168\n",
      "Epoch 00002: val_loss improved from 0.59509 to 0.59152, saving model to Ensemble_strokeResNet.h5\n",
      "167/167 [==============================] - 296s 2s/step - loss: 0.6716 - accuracy: 0.8168 - val_loss: 0.5915 - val_accuracy: 0.8655 - lr: 0.0100\n",
      "Epoch 3/10\n",
      "167/167 [==============================] - ETA: 0s - loss: 0.6045 - accuracy: 0.8428\n",
      "Epoch 00003: val_loss improved from 0.59152 to 0.51395, saving model to Ensemble_strokeResNet.h5\n",
      "167/167 [==============================] - 296s 2s/step - loss: 0.6045 - accuracy: 0.8428 - val_loss: 0.5140 - val_accuracy: 0.8685 - lr: 0.0100\n",
      "Epoch 4/10\n",
      "167/167 [==============================] - ETA: 0s - loss: 0.4457 - accuracy: 0.8637\n",
      "Epoch 00004: val_loss improved from 0.51395 to 0.46352, saving model to Ensemble_strokeResNet.h5\n",
      "167/167 [==============================] - 296s 2s/step - loss: 0.4457 - accuracy: 0.8637 - val_loss: 0.4635 - val_accuracy: 0.8775 - lr: 0.0100\n",
      "Epoch 5/10\n",
      "167/167 [==============================] - ETA: 0s - loss: 0.3677 - accuracy: 0.8879\n",
      "Epoch 00005: val_loss did not improve from 0.46352\n",
      "167/167 [==============================] - 297s 2s/step - loss: 0.3677 - accuracy: 0.8879 - val_loss: 0.5436 - val_accuracy: 0.8695 - lr: 0.0100\n",
      "Epoch 6/10\n",
      "167/167 [==============================] - ETA: 0s - loss: 0.3761 - accuracy: 0.8860\n",
      "Epoch 00006: val_loss did not improve from 0.46352\n",
      "167/167 [==============================] - 296s 2s/step - loss: 0.3761 - accuracy: 0.8860 - val_loss: 0.8141 - val_accuracy: 0.8012 - lr: 0.0100\n",
      "Epoch 7/10\n",
      "167/167 [==============================] - ETA: 0s - loss: 0.3638 - accuracy: 0.8907\n",
      "Epoch 00007: val_loss improved from 0.46352 to 0.39859, saving model to Ensemble_strokeResNet.h5\n",
      "167/167 [==============================] - 296s 2s/step - loss: 0.3638 - accuracy: 0.8907 - val_loss: 0.3986 - val_accuracy: 0.8906 - lr: 0.0100\n",
      "Epoch 8/10\n",
      "167/167 [==============================] - ETA: 0s - loss: 0.3024 - accuracy: 0.9069\n",
      "Epoch 00008: val_loss did not improve from 0.39859\n",
      "167/167 [==============================] - 296s 2s/step - loss: 0.3024 - accuracy: 0.9069 - val_loss: 0.4381 - val_accuracy: 0.8835 - lr: 0.0100\n",
      "Epoch 9/10\n",
      "167/167 [==============================] - ETA: 0s - loss: 0.2919 - accuracy: 0.9013\n",
      "Epoch 00009: val_loss did not improve from 0.39859\n",
      "167/167 [==============================] - 313s 2s/step - loss: 0.2919 - accuracy: 0.9013 - val_loss: 0.4436 - val_accuracy: 0.8534 - lr: 0.0100\n",
      "Epoch 10/10\n",
      "167/167 [==============================] - ETA: 0s - loss: 0.2783 - accuracy: 0.9062\n",
      "Epoch 00010: val_loss improved from 0.39859 to 0.38618, saving model to Ensemble_strokeResNet.h5\n",
      "167/167 [==============================] - 331s 2s/step - loss: 0.2783 - accuracy: 0.9062 - val_loss: 0.3862 - val_accuracy: 0.8675 - lr: 0.0100\n"
     ]
    }
   ],
   "source": [
    "history = model.fit(\n",
    "        train_generator,\n",
    "        steps_per_epoch=STEPS_PER_EPOCH_TRAINING, \n",
    "        epochs = NUM_EPOCHS,\n",
    "        validation_data=validation_generator,\n",
    "        validation_steps=STEPS_PER_EPOCH_VALIDATION,\n",
    "        callbacks=[cb_checkpointer, cb_early_stopper,lr]\n",
    ")\n",
    "#model.load_weights(\"strokeResNet.h15\")"
   ]
  },
  {
   "cell_type": "code",
   "execution_count": 15,
   "id": "0366a92b",
   "metadata": {
    "id": "0366a92b",
    "scrolled": true
   },
   "outputs": [],
   "source": [
    "from tensorflow import keras\n",
    "classifier=keras.models.load_model('Ensemble_strokeResNet.h5')"
   ]
  },
  {
   "cell_type": "code",
   "execution_count": 16,
   "id": "879098a4",
   "metadata": {
    "id": "879098a4"
   },
   "outputs": [],
   "source": [
    "from os import listdir\n",
    "from os.path import isfile,join"
   ]
  },
  {
   "cell_type": "code",
   "execution_count": 17,
   "id": "b85a90c9",
   "metadata": {
    "id": "b85a90c9",
    "outputId": "a4d7dff3-9af1-43ed-881d-6e64fa031c91"
   },
   "outputs": [
    {
     "name": "stdout",
     "output_type": "stream",
     "text": [
      "dict_keys(['loss', 'accuracy', 'val_loss', 'val_accuracy', 'lr'])\n"
     ]
    }
   ],
   "source": [
    "print(history.history.keys())"
   ]
  },
  {
   "cell_type": "code",
   "execution_count": 18,
   "id": "5175a8c2",
   "metadata": {
    "id": "5175a8c2",
    "outputId": "1aa06002-bbec-4a34-bd2a-cf572d9f774d"
   },
   "outputs": [
    {
     "data": {
      "image/png": "[encoded data removed]",
      "text/plain": [
       "<Figure size 1080x576 with 2 Axes>"
      ]
     },
     "metadata": {
      "needs_background": "light"
     },
     "output_type": "display_data"
    }
   ],
   "source": [
    "plt.figure(1, figsize = (15,8)) \n",
    "    \n",
    "plt.subplot(221)  \n",
    "plt.plot(history.history['val_accuracy'])  \n",
    "plt.plot(history.history['accuracy'])  \n",
    "plt.title('model accuracy')  \n",
    "plt.ylabel('accuracy')  \n",
    "plt.xlabel('epoch')  \n",
    "plt.legend(['train', 'valid']) \n",
    "    \n",
    "plt.subplot(222)  \n",
    "plt.plot(history.history['val_loss'])  \n",
    "plt.plot(history.history['loss'])  \n",
    "plt.title('model loss')  \n",
    "plt.ylabel('val_loss')  \n",
    "plt.xlabel('epoch')  \n",
    "plt.legend(['train', 'valid']) \n",
    "\n",
    "plt.show()"
   ]
  },
  {
   "cell_type": "code",
   "execution_count": 19,
   "id": "438af2ee",
   "metadata": {
    "id": "438af2ee",
    "outputId": "ec9bb54e-3bc0-457a-99bf-1a948421c208"
   },
   "outputs": [
    {
     "name": "stdout",
     "output_type": "stream",
     "text": [
      "Found 115 images belonging to 1 classes.\n"
     ]
    }
   ],
   "source": [
    "test_data_dir= path+'test\\\\'\n",
    "test_generator = data_generator.flow_from_directory(\n",
    "    directory = test_data_dir,\n",
    "    target_size = (image_size, image_size),\n",
    "    batch_size = BATCH_SIZE_TESTING,\n",
    "    class_mode = None,\n",
    "    shuffle = False,\n",
    "    seed = 123\n",
    ")"
   ]
  },
  {
   "cell_type": "code",
   "execution_count": 22,
   "id": "3dbbb0bf",
   "metadata": {
    "id": "3dbbb0bf",
    "outputId": "97046047-eeb8-4002-9a82-5f60e4e721f0"
   },
   "outputs": [
    {
     "name": "stdout",
     "output_type": "stream",
     "text": [
      "  2/115 [..............................] - ETA: 8s "
     ]
    },
    {
     "name": "stderr",
     "output_type": "stream",
     "text": [
      "C:\\Users\\Tri\\AppData\\Local\\Temp/ipykernel_20288/3127084481.py:3: UserWarning: `Model.predict_generator` is deprecated and will be removed in a future version. Please use `Model.predict`, which supports generators.\n",
      "  pred = model.predict_generator(test_generator, steps = len(test_generator), verbose = 1)\n"
     ]
    },
    {
     "name": "stdout",
     "output_type": "stream",
     "text": [
      "115/115 [==============================] - 9s 76ms/step\n",
      "[0 0 0 0 0 1 1 1 0 1 1 0 1 2 0 2 1 1 0 0 0 0 1 0 0 1 0 1 2 1 2 2 1 0 2 2 1\n",
      " 0 0 0 0 0 1 0 0 1 1 1 2 2 0 0 1 1 1 1 2 2 2 0 0 0 0 2 1 0 0 1 1 1 2 0 2 1\n",
      " 1 0 0 0 1 1 1 0 0 1 2 2 2 2 2 1 1 0 2 2 1 1 0 1 0 0 0 1 1 1 0 1 1 1 0 1 1\n",
      " 1 2 2 0]\n"
     ]
    }
   ],
   "source": [
    "test_generator.reset()\n",
    "\n",
    "pred = model.predict_generator(test_generator, steps = len(test_generator), verbose = 1)\n",
    "\n",
    "predicted_class_indices = np.argmax(pred, axis = 1)\n",
    "print(predicted_class_indices)"
   ]
  },
  {
   "cell_type": "code",
   "execution_count": 31,
   "id": "3741cee4",
   "metadata": {
    "id": "3741cee4",
    "outputId": "064af1ff-3558-4a56-d288-a165d8c8d38c"
   },
   "outputs": [
    {
     "data": {
      "text/html": [
       "<div>\n",
       "<style scoped>\n",
       "    .dataframe tbody tr th:only-of-type {\n",
       "        vertical-align: middle;\n",
       "    }\n",
       "\n",
       "    .dataframe tbody tr th {\n",
       "        vertical-align: top;\n",
       "    }\n",
       "\n",
       "    .dataframe thead th {\n",
       "        text-align: right;\n",
       "    }\n",
       "</style>\n",
       "<table border=\"1\" class=\"dataframe\">\n",
       "  <thead>\n",
       "    <tr style=\"text-align: right;\">\n",
       "      <th></th>\n",
       "      <th>id</th>\n",
       "      <th>label</th>\n",
       "    </tr>\n",
       "  </thead>\n",
       "  <tbody>\n",
       "    <tr>\n",
       "      <th>0</th>\n",
       "      <td>1</td>\n",
       "      <td>0</td>\n",
       "    </tr>\n",
       "    <tr>\n",
       "      <th>83</th>\n",
       "      <td>1</td>\n",
       "      <td>1</td>\n",
       "    </tr>\n",
       "    <tr>\n",
       "      <th>82</th>\n",
       "      <td>1</td>\n",
       "      <td>0</td>\n",
       "    </tr>\n",
       "    <tr>\n",
       "      <th>81</th>\n",
       "      <td>1</td>\n",
       "      <td>0</td>\n",
       "    </tr>\n",
       "    <tr>\n",
       "      <th>80</th>\n",
       "      <td>1</td>\n",
       "      <td>1</td>\n",
       "    </tr>\n",
       "  </tbody>\n",
       "</table>\n",
       "</div>"
      ],
      "text/plain": [
       "    id  label\n",
       "0    1      0\n",
       "83   1      1\n",
       "82   1      0\n",
       "81   1      0\n",
       "80   1      1"
      ]
     },
     "execution_count": 31,
     "metadata": {},
     "output_type": "execute_result"
    }
   ],
   "source": [
    "results_df = pd.DataFrame(\n",
    "    {\n",
    "        'id': pd.Series(test_generator.filenames), \n",
    "        'label': pd.Series(predicted_class_indices)\n",
    "    })\n",
    "results_df['id'] = results_df.id.str.extract('(\\d+)')\n",
    "results_df['id'] = pd.to_numeric(results_df['id'], errors = 'coerce')\n",
    "results_df.sort_values(by='id', inplace = True)\n",
    "\n",
    "results_df.to_csv('StrokeDetection1model1.csv', index=False)\n",
    "results_df.head()"
   ]
  },
  {
   "cell_type": "code",
   "execution_count": null,
   "id": "004551a0",
   "metadata": {},
   "outputs": [],
   "source": []
  },
  {
   "cell_type": "code",
   "execution_count": 24,
   "id": "34c97387",
   "metadata": {
    "id": "34c97387"
   },
   "outputs": [
    {
     "data": {
      "text/html": [
       "<div>\n",
       "<style scoped>\n",
       "    .dataframe tbody tr th:only-of-type {\n",
       "        vertical-align: middle;\n",
       "    }\n",
       "\n",
       "    .dataframe tbody tr th {\n",
       "        vertical-align: top;\n",
       "    }\n",
       "\n",
       "    .dataframe thead th {\n",
       "        text-align: right;\n",
       "    }\n",
       "</style>\n",
       "<table border=\"1\" class=\"dataframe\">\n",
       "  <thead>\n",
       "    <tr style=\"text-align: right;\">\n",
       "      <th></th>\n",
       "      <th>id</th>\n",
       "      <th>label</th>\n",
       "    </tr>\n",
       "  </thead>\n",
       "  <tbody>\n",
       "    <tr>\n",
       "      <th>0</th>\n",
       "      <td>1</td>\n",
       "      <td>0</td>\n",
       "    </tr>\n",
       "    <tr>\n",
       "      <th>1</th>\n",
       "      <td>1</td>\n",
       "      <td>1</td>\n",
       "    </tr>\n",
       "    <tr>\n",
       "      <th>2</th>\n",
       "      <td>1</td>\n",
       "      <td>0</td>\n",
       "    </tr>\n",
       "    <tr>\n",
       "      <th>3</th>\n",
       "      <td>1</td>\n",
       "      <td>0</td>\n",
       "    </tr>\n",
       "    <tr>\n",
       "      <th>4</th>\n",
       "      <td>1</td>\n",
       "      <td>1</td>\n",
       "    </tr>\n",
       "    <tr>\n",
       "      <th>...</th>\n",
       "      <td>...</td>\n",
       "      <td>...</td>\n",
       "    </tr>\n",
       "    <tr>\n",
       "      <th>110</th>\n",
       "      <td>1</td>\n",
       "      <td>1</td>\n",
       "    </tr>\n",
       "    <tr>\n",
       "      <th>111</th>\n",
       "      <td>1</td>\n",
       "      <td>2</td>\n",
       "    </tr>\n",
       "    <tr>\n",
       "      <th>112</th>\n",
       "      <td>1</td>\n",
       "      <td>2</td>\n",
       "    </tr>\n",
       "    <tr>\n",
       "      <th>113</th>\n",
       "      <td>1</td>\n",
       "      <td>2</td>\n",
       "    </tr>\n",
       "    <tr>\n",
       "      <th>114</th>\n",
       "      <td>1</td>\n",
       "      <td>0</td>\n",
       "    </tr>\n",
       "  </tbody>\n",
       "</table>\n",
       "<p>115 rows × 2 columns</p>\n",
       "</div>"
      ],
      "text/plain": [
       "     id  label\n",
       "0     1      0\n",
       "1     1      1\n",
       "2     1      0\n",
       "3     1      0\n",
       "4     1      1\n",
       "..   ..    ...\n",
       "110   1      1\n",
       "111   1      2\n",
       "112   1      2\n",
       "113   1      2\n",
       "114   1      0\n",
       "\n",
       "[115 rows x 2 columns]"
      ]
     },
     "execution_count": 24,
     "metadata": {},
     "output_type": "execute_result"
    }
   ],
   "source": [
    "df=pd.read_csv('StrokeDetection1.csv')\n",
    "df"
   ]
  },
  {
   "cell_type": "code",
   "execution_count": 25,
   "id": "29a8788b",
   "metadata": {},
   "outputs": [
    {
     "data": {
      "text/html": [
       "<div>\n",
       "<style scoped>\n",
       "    .dataframe tbody tr th:only-of-type {\n",
       "        vertical-align: middle;\n",
       "    }\n",
       "\n",
       "    .dataframe tbody tr th {\n",
       "        vertical-align: top;\n",
       "    }\n",
       "\n",
       "    .dataframe thead th {\n",
       "        text-align: right;\n",
       "    }\n",
       "</style>\n",
       "<table border=\"1\" class=\"dataframe\">\n",
       "  <thead>\n",
       "    <tr style=\"text-align: right;\">\n",
       "      <th></th>\n",
       "      <th>Id</th>\n",
       "      <th>label</th>\n",
       "    </tr>\n",
       "  </thead>\n",
       "  <tbody>\n",
       "    <tr>\n",
       "      <th>0</th>\n",
       "      <td>TEST\\10090.png</td>\n",
       "      <td>0</td>\n",
       "    </tr>\n",
       "    <tr>\n",
       "      <th>1</th>\n",
       "      <td>TEST\\10107.png</td>\n",
       "      <td>0</td>\n",
       "    </tr>\n",
       "    <tr>\n",
       "      <th>2</th>\n",
       "      <td>TEST\\10155.png</td>\n",
       "      <td>2</td>\n",
       "    </tr>\n",
       "    <tr>\n",
       "      <th>3</th>\n",
       "      <td>TEST\\10117.png</td>\n",
       "      <td>1</td>\n",
       "    </tr>\n",
       "    <tr>\n",
       "      <th>4</th>\n",
       "      <td>TEST\\10188.png</td>\n",
       "      <td>1</td>\n",
       "    </tr>\n",
       "    <tr>\n",
       "      <th>...</th>\n",
       "      <td>...</td>\n",
       "      <td>...</td>\n",
       "    </tr>\n",
       "    <tr>\n",
       "      <th>110</th>\n",
       "      <td>TEST\\16182.png</td>\n",
       "      <td>1</td>\n",
       "    </tr>\n",
       "    <tr>\n",
       "      <th>111</th>\n",
       "      <td>TEST\\15735.png</td>\n",
       "      <td>0</td>\n",
       "    </tr>\n",
       "    <tr>\n",
       "      <th>112</th>\n",
       "      <td>TEST\\16361.png</td>\n",
       "      <td>0</td>\n",
       "    </tr>\n",
       "    <tr>\n",
       "      <th>113</th>\n",
       "      <td>TEST\\16557.png</td>\n",
       "      <td>0</td>\n",
       "    </tr>\n",
       "    <tr>\n",
       "      <th>114</th>\n",
       "      <td>TEST\\16865.png</td>\n",
       "      <td>0</td>\n",
       "    </tr>\n",
       "  </tbody>\n",
       "</table>\n",
       "<p>115 rows × 2 columns</p>\n",
       "</div>"
      ],
      "text/plain": [
       "                 Id  label\n",
       "0    TEST\\10090.png      0\n",
       "1    TEST\\10107.png      0\n",
       "2    TEST\\10155.png      2\n",
       "3    TEST\\10117.png      1\n",
       "4    TEST\\10188.png      1\n",
       "..              ...    ...\n",
       "110  TEST\\16182.png      1\n",
       "111  TEST\\15735.png      0\n",
       "112  TEST\\16361.png      0\n",
       "113  TEST\\16557.png      0\n",
       "114  TEST\\16865.png      0\n",
       "\n",
       "[115 rows x 2 columns]"
      ]
     },
     "execution_count": 25,
     "metadata": {},
     "output_type": "execute_result"
    }
   ],
   "source": [
    "df1=pd.read_csv('truthFile.csv')\n",
    "df1"
   ]
  },
  {
   "cell_type": "code",
   "execution_count": 26,
   "id": "d846037f",
   "metadata": {},
   "outputs": [
    {
     "data": {
      "text/plain": [
       "0      0\n",
       "1      1\n",
       "2      0\n",
       "3      0\n",
       "4      1\n",
       "      ..\n",
       "110    1\n",
       "111    2\n",
       "112    2\n",
       "113    2\n",
       "114    0\n",
       "Name: label, Length: 115, dtype: int64"
      ]
     },
     "execution_count": 26,
     "metadata": {},
     "output_type": "execute_result"
    }
   ],
   "source": [
    "tahmin=df['label']\n",
    "tahmin"
   ]
  },
  {
   "cell_type": "code",
   "execution_count": 27,
   "id": "42d3703b",
   "metadata": {},
   "outputs": [
    {
     "data": {
      "text/plain": [
       "0      0\n",
       "1      0\n",
       "2      2\n",
       "3      1\n",
       "4      1\n",
       "      ..\n",
       "110    1\n",
       "111    0\n",
       "112    0\n",
       "113    0\n",
       "114    0\n",
       "Name: label, Length: 115, dtype: int64"
      ]
     },
     "execution_count": 27,
     "metadata": {},
     "output_type": "execute_result"
    }
   ],
   "source": [
    "orijinal=df1['label']\n",
    "orijinal"
   ]
  },
  {
   "cell_type": "code",
   "execution_count": 29,
   "id": "736ca751",
   "metadata": {},
   "outputs": [],
   "source": [
    "class_names=[\"0\",\"1\",\"2\"]"
   ]
  },
  {
   "cell_type": "code",
   "execution_count": 30,
   "id": "340ab864",
   "metadata": {},
   "outputs": [
    {
     "name": "stdout",
     "output_type": "stream",
     "text": [
      "              precision    recall  f1-score   support\n",
      "\n",
      "           0       0.49      0.34      0.40        64\n",
      "           1       0.22      0.38      0.28        26\n",
      "           2       0.33      0.32      0.33        25\n",
      "\n",
      "    accuracy                           0.35       115\n",
      "   macro avg       0.35      0.35      0.34       115\n",
      "weighted avg       0.39      0.35      0.36       115\n",
      "\n",
      "[[22 30 12]\n",
      " [12 10  4]\n",
      " [11  6  8]]\n"
     ]
    }
   ],
   "source": [
    "from sklearn.metrics import classification_report, confusion_matrix\n",
    "\n",
    "print(classification_report(orijinal, predicted_class_indices, target_names=class_names))\n",
    "\n",
    "print(confusion_matrix(orijinal, predicted_class_indices))"
   ]
  },
  {
   "cell_type": "code",
   "execution_count": null,
   "id": "10403782",
   "metadata": {},
   "outputs": [],
   "source": []
  }
 ],
 "metadata": {
  "colab": {
   "collapsed_sections": [],
   "name": "ResNet50deneme (2).ipynb",
   "provenance": []
  },
  "kernelspec": {
   "display_name": "Python 3 (ipykernel)",
   "language": "python",
   "name": "python3"
  },
  "language_info": {
   "codemirror_mode": {
    "name": "ipython",
    "version": 3
   },
   "file_extension": ".py",
   "mimetype": "text/x-python",
   "name": "python",
   "nbconvert_exporter": "python",
   "pygments_lexer": "ipython3",
   "version": "3.9.7"
  }
 },
 "nbformat": 4,
 "nbformat_minor": 5
}
