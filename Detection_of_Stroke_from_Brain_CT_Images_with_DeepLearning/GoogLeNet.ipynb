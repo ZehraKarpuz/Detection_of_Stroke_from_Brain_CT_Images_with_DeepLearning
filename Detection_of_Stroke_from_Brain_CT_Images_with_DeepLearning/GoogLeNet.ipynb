{
 "cells": [
  {
   "cell_type": "code",
   "execution_count": 23,
   "id": "7fd01d53",
   "metadata": {
    "scrolled": false
   },
   "outputs": [],
   "source": [
    "import os\n",
    "import numpy as np\n",
    "import tensorflow as tf\n",
    "import matplotlib.pyplot as plt\n",
    "from tensorflow.keras import regularizers\n",
    "from tensorflow.keras.models import Sequential, Model\n",
    "from tensorflow.keras.layers import Input, Flatten, Dense, Dropout, BatchNormalization\n",
    "from tensorflow.keras.layers import Conv2D, MaxPooling2D, AveragePooling2D, ZeroPadding2D\n",
    "from tensorflow.keras.layers import Concatenate\n",
    "from tensorflow.keras.preprocessing.image import ImageDataGenerator\n",
    "from tensorflow.keras.optimizers import Adam, SGD"
   ]
  },
  {
   "cell_type": "code",
   "execution_count": 69,
   "id": "a75236cf",
   "metadata": {},
   "outputs": [],
   "source": [
    "CLASS_NUM = 3\n",
    "BATCH_SIZE = 16\n",
    "EPOCH_STEPS = int(5318/BATCH_SIZE)\n",
    "IMAGE_SHAPE = (224, 224, 3)\n",
    "IMAGE_TRAIN = r'C:\\\\Users\\\\Tri\\\\Desktop\\\\preprocessDataSet\\\\train\\\\'\n",
    "IMAGE_TEST=  r'C:\\\\Users\\\\Tri\\\\Desktop\\\\preprocessDataSet\\\\test\\\\'\n",
    "MODEL_NAME = 'Ygooglenet_stroke2.h5'"
   ]
  },
  {
   "cell_type": "code",
   "execution_count": 52,
   "id": "0b98fe24",
   "metadata": {},
   "outputs": [
    {
     "name": "stdout",
     "output_type": "stream",
     "text": [
      "Found 5318 images belonging to 3 classes.\n",
      "Found 115 images belonging to 1 classes.\n"
     ]
    }
   ],
   "source": [
    "train_datagen = ImageDataGenerator(\n",
    "    rescale=1./255,\n",
    "    #rotation_range=30,\n",
    "    width_shift_range=0.2,\n",
    "    height_shift_range=0.2,\n",
    "    shear_range=0.2,\n",
    "    zoom_range=0.2,\n",
    "    horizontal_flip=True\n",
    ")\n",
    "\n",
    "generator_main = train_datagen.flow_from_directory(\n",
    "    IMAGE_TRAIN,\n",
    "    target_size=(IMAGE_SHAPE[0], IMAGE_SHAPE[1]),\n",
    "    batch_size=BATCH_SIZE,\n",
    "    class_mode='categorical'\n",
    ")\n",
    "generator_maint = train_datagen.flow_from_directory(\n",
    "    IMAGE_TEST,\n",
    "    target_size=(IMAGE_SHAPE[0], IMAGE_SHAPE[1]),\n",
    "    batch_size=BATCH_SIZE,\n",
    "    class_mode='categorical'\n",
    ")"
   ]
  },
  {
   "cell_type": "code",
   "execution_count": 53,
   "id": "2e6054d7",
   "metadata": {},
   "outputs": [],
   "source": [
    "def my_generator(generator):\n",
    "    while True: # keras requires all generators to be infinite\n",
    "        data = next(generator)\n",
    "        x = data[0]\n",
    "        y = data[1],data[1],data[1]\n",
    "        yield x, y"
   ]
  },
  {
   "cell_type": "code",
   "execution_count": 57,
   "id": "44915fd7",
   "metadata": {},
   "outputs": [],
   "source": [
    "train_generator = my_generator(generator_main)\n",
    "test_generator=my_generator(generator_maint)"
   ]
  },
  {
   "cell_type": "code",
   "execution_count": 37,
   "id": "4f4a10a5",
   "metadata": {},
   "outputs": [],
   "source": [
    "def inception(x, filters):\n",
    "    # 1x1\n",
    "    path1 = Conv2D(filters=filters[0], kernel_size=(1,1), strides=1, padding='same', activation='relu')(x)\n",
    "\n",
    "    # 1x1->3x3\n",
    "    path2 = Conv2D(filters=filters[1][0], kernel_size=(1,1), strides=1, padding='same', activation='relu')(x)\n",
    "    path2 = Conv2D(filters=filters[1][1], kernel_size=(3,3), strides=1, padding='same', activation='relu')(path2)\n",
    "    \n",
    "    # 1x1->5x5\n",
    "    path3 = Conv2D(filters=filters[2][0], kernel_size=(1,1), strides=1, padding='same', activation='relu')(x)\n",
    "    path3 = Conv2D(filters=filters[2][1], kernel_size=(5,5), strides=1, padding='same', activation='relu')(path3)\n",
    "\n",
    "    # 3x3->1x1\n",
    "    path4 = MaxPooling2D(pool_size=(3,3), strides=1, padding='same')(x)\n",
    "    path4 = Conv2D(filters=filters[3], kernel_size=(1,1), strides=1, padding='same', activation='relu')(path4)\n",
    "\n",
    "    return Concatenate(axis=-1)([path1,path2,path3,path4])\n",
    "\n",
    "\n",
    "def auxiliary(x, name=None):\n",
    "    layer = AveragePooling2D(pool_size=(5,5), strides=3, padding='valid')(x)\n",
    "    layer = Conv2D(filters=128, kernel_size=(1,1), strides=1, padding='same', activation='relu')(layer)\n",
    "    layer = Flatten()(layer)\n",
    "    layer = Dense(units=256, activation='relu')(layer)\n",
    "    layer = Dropout(0.4)(layer)\n",
    "    layer = Dense(units=CLASS_NUM, activation='softmax', name=name)(layer)\n",
    "    return layer\n",
    "\n",
    "\n",
    "def googlenet():\n",
    "    layer_in = Input(shape=IMAGE_SHAPE)\n",
    "    \n",
    "    # stage-1\n",
    "    layer = Conv2D(filters=64, kernel_size=(7,7), strides=2, padding='same', activation='relu')(layer_in)\n",
    "    layer = MaxPooling2D(pool_size=(3,3), strides=2, padding='same')(layer)\n",
    "    layer = BatchNormalization()(layer)\n",
    "\n",
    "    # stage-2\n",
    "    layer = Conv2D(filters=64, kernel_size=(1,1), strides=1, padding='same', activation='relu')(layer)\n",
    "    layer = Conv2D(filters=192, kernel_size=(3,3), strides=1, padding='same', activation='relu')(layer)\n",
    "    layer = BatchNormalization()(layer)\n",
    "    layer = MaxPooling2D(pool_size=(3,3), strides=2, padding='same')(layer)\n",
    "\n",
    "    # stage-3\n",
    "    layer = inception(layer, [ 64,  (96,128), (16,32), 32]) #3a\n",
    "    layer = inception(layer, [128, (128,192), (32,96), 64]) #3b\n",
    "    layer = MaxPooling2D(pool_size=(3,3), strides=2, padding='same')(layer)\n",
    "    \n",
    "    # stage-4\n",
    "    layer = inception(layer, [192,  (96,208),  (16,48),  64]) #4a\n",
    "    aux1  = auxiliary(layer, name='aux1')\n",
    "    layer = inception(layer, [160, (112,224),  (24,64),  64]) #4b\n",
    "    layer = inception(layer, [128, (128,256),  (24,64),  64]) #4c\n",
    "    layer = inception(layer, [112, (144,288),  (32,64),  64]) #4d\n",
    "    aux2  = auxiliary(layer, name='aux2')\n",
    "    layer = inception(layer, [256, (160,320), (32,128), 128]) #4e\n",
    "    layer = MaxPooling2D(pool_size=(3,3), strides=2, padding='same')(layer)\n",
    "    \n",
    "    # stage-5\n",
    "    layer = inception(layer, [256, (160,320), (32,128), 128]) #5a\n",
    "    layer = inception(layer, [384, (192,384), (48,128), 128]) #5b\n",
    "    layer = AveragePooling2D(pool_size=(7,7), strides=1, padding='valid')(layer)\n",
    "    \n",
    "    # stage-6\n",
    "    layer = Flatten()(layer)\n",
    "    layer = Dropout(0.4)(layer)\n",
    "    layer = Dense(units=256, activation='linear')(layer)\n",
    "    main = Dense(units=CLASS_NUM, activation='softmax', name='main')(layer)\n",
    "    \n",
    "    model = Model(inputs=layer_in, outputs=[main, aux1, aux2])\n",
    "    \n",
    "    return model"
   ]
  },
  {
   "cell_type": "code",
   "execution_count": 38,
   "id": "cf45dc5b",
   "metadata": {},
   "outputs": [],
   "source": [
    "model = googlenet()"
   ]
  },
  {
   "cell_type": "code",
   "execution_count": 39,
   "id": "1c98590f",
   "metadata": {},
   "outputs": [
    {
     "name": "stdout",
     "output_type": "stream",
     "text": [
      "Model: \"model_2\"\n",
      "__________________________________________________________________________________________________\n",
      " Layer (type)                   Output Shape         Param #     Connected to                     \n",
      "==================================================================================================\n",
      " input_3 (InputLayer)           [(None, 224, 224, 3  0           []                               \n",
      "                                )]                                                                \n",
      "                                                                                                  \n",
      " conv2d_118 (Conv2D)            (None, 112, 112, 64  9472        ['input_3[0][0]']                \n",
      "                                )                                                                 \n",
      "                                                                                                  \n",
      " max_pooling2d_26 (MaxPooling2D  (None, 56, 56, 64)  0           ['conv2d_118[0][0]']             \n",
      " )                                                                                                \n",
      "                                                                                                  \n",
      " batch_normalization_4 (BatchNo  (None, 56, 56, 64)  256         ['max_pooling2d_26[0][0]']       \n",
      " rmalization)                                                                                     \n",
      "                                                                                                  \n",
      " conv2d_119 (Conv2D)            (None, 56, 56, 64)   4160        ['batch_normalization_4[0][0]']  \n",
      "                                                                                                  \n",
      " conv2d_120 (Conv2D)            (None, 56, 56, 192)  110784      ['conv2d_119[0][0]']             \n",
      "                                                                                                  \n",
      " batch_normalization_5 (BatchNo  (None, 56, 56, 192)  768        ['conv2d_120[0][0]']             \n",
      " rmalization)                                                                                     \n",
      "                                                                                                  \n",
      " max_pooling2d_27 (MaxPooling2D  (None, 28, 28, 192)  0          ['batch_normalization_5[0][0]']  \n",
      " )                                                                                                \n",
      "                                                                                                  \n",
      " conv2d_122 (Conv2D)            (None, 28, 28, 96)   18528       ['max_pooling2d_27[0][0]']       \n",
      "                                                                                                  \n",
      " conv2d_124 (Conv2D)            (None, 28, 28, 16)   3088        ['max_pooling2d_27[0][0]']       \n",
      "                                                                                                  \n",
      " max_pooling2d_28 (MaxPooling2D  (None, 28, 28, 192)  0          ['max_pooling2d_27[0][0]']       \n",
      " )                                                                                                \n",
      "                                                                                                  \n",
      " conv2d_121 (Conv2D)            (None, 28, 28, 64)   12352       ['max_pooling2d_27[0][0]']       \n",
      "                                                                                                  \n",
      " conv2d_123 (Conv2D)            (None, 28, 28, 128)  110720      ['conv2d_122[0][0]']             \n",
      "                                                                                                  \n",
      " conv2d_125 (Conv2D)            (None, 28, 28, 32)   12832       ['conv2d_124[0][0]']             \n",
      "                                                                                                  \n",
      " conv2d_126 (Conv2D)            (None, 28, 28, 32)   6176        ['max_pooling2d_28[0][0]']       \n",
      "                                                                                                  \n",
      " concatenate_18 (Concatenate)   (None, 28, 28, 256)  0           ['conv2d_121[0][0]',             \n",
      "                                                                  'conv2d_123[0][0]',             \n",
      "                                                                  'conv2d_125[0][0]',             \n",
      "                                                                  'conv2d_126[0][0]']             \n",
      "                                                                                                  \n",
      " conv2d_128 (Conv2D)            (None, 28, 28, 128)  32896       ['concatenate_18[0][0]']         \n",
      "                                                                                                  \n",
      " conv2d_130 (Conv2D)            (None, 28, 28, 32)   8224        ['concatenate_18[0][0]']         \n",
      "                                                                                                  \n",
      " max_pooling2d_29 (MaxPooling2D  (None, 28, 28, 256)  0          ['concatenate_18[0][0]']         \n",
      " )                                                                                                \n",
      "                                                                                                  \n",
      " conv2d_127 (Conv2D)            (None, 28, 28, 128)  32896       ['concatenate_18[0][0]']         \n",
      "                                                                                                  \n",
      " conv2d_129 (Conv2D)            (None, 28, 28, 192)  221376      ['conv2d_128[0][0]']             \n",
      "                                                                                                  \n",
      " conv2d_131 (Conv2D)            (None, 28, 28, 96)   76896       ['conv2d_130[0][0]']             \n",
      "                                                                                                  \n",
      " conv2d_132 (Conv2D)            (None, 28, 28, 64)   16448       ['max_pooling2d_29[0][0]']       \n",
      "                                                                                                  \n",
      " concatenate_19 (Concatenate)   (None, 28, 28, 480)  0           ['conv2d_127[0][0]',             \n",
      "                                                                  'conv2d_129[0][0]',             \n",
      "                                                                  'conv2d_131[0][0]',             \n",
      "                                                                  'conv2d_132[0][0]']             \n",
      "                                                                                                  \n",
      " max_pooling2d_30 (MaxPooling2D  (None, 14, 14, 480)  0          ['concatenate_19[0][0]']         \n",
      " )                                                                                                \n",
      "                                                                                                  \n",
      " conv2d_134 (Conv2D)            (None, 14, 14, 96)   46176       ['max_pooling2d_30[0][0]']       \n",
      "                                                                                                  \n",
      " conv2d_136 (Conv2D)            (None, 14, 14, 16)   7696        ['max_pooling2d_30[0][0]']       \n",
      "                                                                                                  \n",
      " max_pooling2d_31 (MaxPooling2D  (None, 14, 14, 480)  0          ['max_pooling2d_30[0][0]']       \n",
      " )                                                                                                \n",
      "                                                                                                  \n",
      " conv2d_133 (Conv2D)            (None, 14, 14, 192)  92352       ['max_pooling2d_30[0][0]']       \n",
      "                                                                                                  \n",
      " conv2d_135 (Conv2D)            (None, 14, 14, 208)  179920      ['conv2d_134[0][0]']             \n",
      "                                                                                                  \n",
      " conv2d_137 (Conv2D)            (None, 14, 14, 48)   19248       ['conv2d_136[0][0]']             \n",
      "                                                                                                  \n",
      " conv2d_138 (Conv2D)            (None, 14, 14, 64)   30784       ['max_pooling2d_31[0][0]']       \n",
      "                                                                                                  \n",
      " concatenate_20 (Concatenate)   (None, 14, 14, 512)  0           ['conv2d_133[0][0]',             \n",
      "                                                                  'conv2d_135[0][0]',             \n",
      "                                                                  'conv2d_137[0][0]',             \n",
      "                                                                  'conv2d_138[0][0]']             \n",
      "                                                                                                  \n",
      " conv2d_141 (Conv2D)            (None, 14, 14, 112)  57456       ['concatenate_20[0][0]']         \n",
      "                                                                                                  \n",
      " conv2d_143 (Conv2D)            (None, 14, 14, 24)   12312       ['concatenate_20[0][0]']         \n",
      "                                                                                                  \n",
      " max_pooling2d_32 (MaxPooling2D  (None, 14, 14, 512)  0          ['concatenate_20[0][0]']         \n",
      " )                                                                                                \n",
      "                                                                                                  \n",
      " conv2d_140 (Conv2D)            (None, 14, 14, 160)  82080       ['concatenate_20[0][0]']         \n",
      "                                                                                                  \n",
      " conv2d_142 (Conv2D)            (None, 14, 14, 224)  226016      ['conv2d_141[0][0]']             \n",
      "                                                                                                  \n",
      " conv2d_144 (Conv2D)            (None, 14, 14, 64)   38464       ['conv2d_143[0][0]']             \n",
      "                                                                                                  \n",
      " conv2d_145 (Conv2D)            (None, 14, 14, 64)   32832       ['max_pooling2d_32[0][0]']       \n",
      "                                                                                                  \n",
      " concatenate_21 (Concatenate)   (None, 14, 14, 512)  0           ['conv2d_140[0][0]',             \n",
      "                                                                  'conv2d_142[0][0]',             \n",
      "                                                                  'conv2d_144[0][0]',             \n",
      "                                                                  'conv2d_145[0][0]']             \n",
      "                                                                                                  \n",
      " conv2d_147 (Conv2D)            (None, 14, 14, 128)  65664       ['concatenate_21[0][0]']         \n",
      "                                                                                                  \n",
      " conv2d_149 (Conv2D)            (None, 14, 14, 24)   12312       ['concatenate_21[0][0]']         \n",
      "                                                                                                  \n",
      " max_pooling2d_33 (MaxPooling2D  (None, 14, 14, 512)  0          ['concatenate_21[0][0]']         \n",
      " )                                                                                                \n",
      "                                                                                                  \n",
      " conv2d_146 (Conv2D)            (None, 14, 14, 128)  65664       ['concatenate_21[0][0]']         \n",
      "                                                                                                  \n",
      " conv2d_148 (Conv2D)            (None, 14, 14, 256)  295168      ['conv2d_147[0][0]']             \n",
      "                                                                                                  \n",
      " conv2d_150 (Conv2D)            (None, 14, 14, 64)   38464       ['conv2d_149[0][0]']             \n",
      "                                                                                                  \n",
      " conv2d_151 (Conv2D)            (None, 14, 14, 64)   32832       ['max_pooling2d_33[0][0]']       \n",
      "                                                                                                  \n",
      " concatenate_22 (Concatenate)   (None, 14, 14, 512)  0           ['conv2d_146[0][0]',             \n",
      "                                                                  'conv2d_148[0][0]',             \n",
      "                                                                  'conv2d_150[0][0]',             \n",
      "                                                                  'conv2d_151[0][0]']             \n",
      "                                                                                                  \n",
      " conv2d_153 (Conv2D)            (None, 14, 14, 144)  73872       ['concatenate_22[0][0]']         \n",
      "                                                                                                  \n",
      " conv2d_155 (Conv2D)            (None, 14, 14, 32)   16416       ['concatenate_22[0][0]']         \n",
      "                                                                                                  \n",
      " max_pooling2d_34 (MaxPooling2D  (None, 14, 14, 512)  0          ['concatenate_22[0][0]']         \n",
      " )                                                                                                \n",
      "                                                                                                  \n",
      " conv2d_152 (Conv2D)            (None, 14, 14, 112)  57456       ['concatenate_22[0][0]']         \n",
      "                                                                                                  \n",
      " conv2d_154 (Conv2D)            (None, 14, 14, 288)  373536      ['conv2d_153[0][0]']             \n",
      "                                                                                                  \n",
      " conv2d_156 (Conv2D)            (None, 14, 14, 64)   51264       ['conv2d_155[0][0]']             \n",
      "                                                                                                  \n",
      " conv2d_157 (Conv2D)            (None, 14, 14, 64)   32832       ['max_pooling2d_34[0][0]']       \n",
      "                                                                                                  \n",
      " concatenate_23 (Concatenate)   (None, 14, 14, 528)  0           ['conv2d_152[0][0]',             \n",
      "                                                                  'conv2d_154[0][0]',             \n",
      "                                                                  'conv2d_156[0][0]',             \n",
      "                                                                  'conv2d_157[0][0]']             \n",
      "                                                                                                  \n",
      " conv2d_160 (Conv2D)            (None, 14, 14, 160)  84640       ['concatenate_23[0][0]']         \n",
      "                                                                                                  \n",
      " conv2d_162 (Conv2D)            (None, 14, 14, 32)   16928       ['concatenate_23[0][0]']         \n",
      "                                                                                                  \n",
      " max_pooling2d_35 (MaxPooling2D  (None, 14, 14, 528)  0          ['concatenate_23[0][0]']         \n",
      " )                                                                                                \n",
      "                                                                                                  \n",
      " conv2d_159 (Conv2D)            (None, 14, 14, 256)  135424      ['concatenate_23[0][0]']         \n",
      "                                                                                                  \n",
      " conv2d_161 (Conv2D)            (None, 14, 14, 320)  461120      ['conv2d_160[0][0]']             \n",
      "                                                                                                  \n",
      " conv2d_163 (Conv2D)            (None, 14, 14, 128)  102528      ['conv2d_162[0][0]']             \n",
      "                                                                                                  \n",
      " conv2d_164 (Conv2D)            (None, 14, 14, 128)  67712       ['max_pooling2d_35[0][0]']       \n",
      "                                                                                                  \n",
      " concatenate_24 (Concatenate)   (None, 14, 14, 832)  0           ['conv2d_159[0][0]',             \n",
      "                                                                  'conv2d_161[0][0]',             \n",
      "                                                                  'conv2d_163[0][0]',             \n",
      "                                                                  'conv2d_164[0][0]']             \n",
      "                                                                                                  \n",
      " max_pooling2d_36 (MaxPooling2D  (None, 7, 7, 832)   0           ['concatenate_24[0][0]']         \n",
      " )                                                                                                \n",
      "                                                                                                  \n",
      " conv2d_166 (Conv2D)            (None, 7, 7, 160)    133280      ['max_pooling2d_36[0][0]']       \n",
      "                                                                                                  \n",
      " conv2d_168 (Conv2D)            (None, 7, 7, 32)     26656       ['max_pooling2d_36[0][0]']       \n",
      "                                                                                                  \n",
      " max_pooling2d_37 (MaxPooling2D  (None, 7, 7, 832)   0           ['max_pooling2d_36[0][0]']       \n",
      " )                                                                                                \n",
      "                                                                                                  \n",
      " conv2d_165 (Conv2D)            (None, 7, 7, 256)    213248      ['max_pooling2d_36[0][0]']       \n",
      "                                                                                                  \n",
      " conv2d_167 (Conv2D)            (None, 7, 7, 320)    461120      ['conv2d_166[0][0]']             \n",
      "                                                                                                  \n",
      " conv2d_169 (Conv2D)            (None, 7, 7, 128)    102528      ['conv2d_168[0][0]']             \n",
      "                                                                                                  \n",
      " conv2d_170 (Conv2D)            (None, 7, 7, 128)    106624      ['max_pooling2d_37[0][0]']       \n",
      "                                                                                                  \n",
      " concatenate_25 (Concatenate)   (None, 7, 7, 832)    0           ['conv2d_165[0][0]',             \n",
      "                                                                  'conv2d_167[0][0]',             \n",
      "                                                                  'conv2d_169[0][0]',             \n",
      "                                                                  'conv2d_170[0][0]']             \n",
      "                                                                                                  \n",
      " conv2d_172 (Conv2D)            (None, 7, 7, 192)    159936      ['concatenate_25[0][0]']         \n",
      "                                                                                                  \n",
      " conv2d_174 (Conv2D)            (None, 7, 7, 48)     39984       ['concatenate_25[0][0]']         \n",
      "                                                                                                  \n",
      " max_pooling2d_38 (MaxPooling2D  (None, 7, 7, 832)   0           ['concatenate_25[0][0]']         \n",
      " )                                                                                                \n",
      "                                                                                                  \n",
      " conv2d_171 (Conv2D)            (None, 7, 7, 384)    319872      ['concatenate_25[0][0]']         \n",
      "                                                                                                  \n",
      " conv2d_173 (Conv2D)            (None, 7, 7, 384)    663936      ['conv2d_172[0][0]']             \n",
      "                                                                                                  \n",
      " conv2d_175 (Conv2D)            (None, 7, 7, 128)    153728      ['conv2d_174[0][0]']             \n",
      "                                                                                                  \n",
      " conv2d_176 (Conv2D)            (None, 7, 7, 128)    106624      ['max_pooling2d_38[0][0]']       \n",
      "                                                                                                  \n",
      " concatenate_26 (Concatenate)   (None, 7, 7, 1024)   0           ['conv2d_171[0][0]',             \n",
      "                                                                  'conv2d_173[0][0]',             \n",
      "                                                                  'conv2d_175[0][0]',             \n",
      "                                                                  'conv2d_176[0][0]']             \n",
      "                                                                                                  \n",
      " average_pooling2d_6 (AveragePo  (None, 4, 4, 512)   0           ['concatenate_20[0][0]']         \n",
      " oling2D)                                                                                         \n",
      "                                                                                                  \n",
      " average_pooling2d_7 (AveragePo  (None, 4, 4, 528)   0           ['concatenate_23[0][0]']         \n",
      " oling2D)                                                                                         \n",
      "                                                                                                  \n",
      " average_pooling2d_8 (AveragePo  (None, 1, 1, 1024)  0           ['concatenate_26[0][0]']         \n",
      " oling2D)                                                                                         \n",
      "                                                                                                  \n",
      " conv2d_139 (Conv2D)            (None, 4, 4, 128)    65664       ['average_pooling2d_6[0][0]']    \n",
      "                                                                                                  \n",
      " conv2d_158 (Conv2D)            (None, 4, 4, 128)    67712       ['average_pooling2d_7[0][0]']    \n",
      "                                                                                                  \n",
      " flatten_8 (Flatten)            (None, 1024)         0           ['average_pooling2d_8[0][0]']    \n",
      "                                                                                                  \n",
      " flatten_6 (Flatten)            (None, 2048)         0           ['conv2d_139[0][0]']             \n",
      "                                                                                                  \n",
      " flatten_7 (Flatten)            (None, 2048)         0           ['conv2d_158[0][0]']             \n",
      "                                                                                                  \n",
      " dropout_8 (Dropout)            (None, 1024)         0           ['flatten_8[0][0]']              \n",
      "                                                                                                  \n",
      " dense_6 (Dense)                (None, 256)          524544      ['flatten_6[0][0]']              \n",
      "                                                                                                  \n",
      " dense_7 (Dense)                (None, 256)          524544      ['flatten_7[0][0]']              \n",
      "                                                                                                  \n",
      " dense_8 (Dense)                (None, 256)          262400      ['dropout_8[0][0]']              \n",
      "                                                                                                  \n",
      " dropout_6 (Dropout)            (None, 256)          0           ['dense_6[0][0]']                \n",
      "                                                                                                  \n",
      " dropout_7 (Dropout)            (None, 256)          0           ['dense_7[0][0]']                \n",
      "                                                                                                  \n",
      " main (Dense)                   (None, 3)            771         ['dense_8[0][0]']                \n",
      "                                                                                                  \n",
      " aux1 (Dense)                   (None, 3)            771         ['dropout_6[0][0]']              \n",
      "                                                                                                  \n",
      " aux2 (Dense)                   (None, 3)            771         ['dropout_7[0][0]']              \n",
      "                                                                                                  \n",
      "==================================================================================================\n",
      "Total params: 7,421,753\n",
      "Trainable params: 7,421,241\n",
      "Non-trainable params: 512\n",
      "__________________________________________________________________________________________________\n"
     ]
    }
   ],
   "source": [
    "model.summary()"
   ]
  },
  {
   "cell_type": "code",
   "execution_count": 40,
   "id": "c5e4c628",
   "metadata": {},
   "outputs": [],
   "source": [
    "optimizer = ['Adam', 'SGD', 'Adam','SGD']\n",
    "epochs = [5,5,5,5]\n",
    "history_all = {}"
   ]
  },
  {
   "cell_type": "code",
   "execution_count": 41,
   "id": "e58915ca",
   "metadata": {
    "scrolled": false
   },
   "outputs": [
    {
     "name": "stdout",
     "output_type": "stream",
     "text": [
      "Using optimizer: Adam, Epoch: 5\n",
      "Epoch 1/5\n",
      "332/332 [==============================] - 413s 1s/step - loss: 1.4569 - main_loss: 0.9300 - aux1_loss: 0.8745 - aux2_loss: 0.8817 - main_accuracy: 0.6642 - aux1_accuracy: 0.6636 - aux2_accuracy: 0.6630\n",
      "Epoch 2/5\n",
      "332/332 [==============================] - 400s 1s/step - loss: 1.3186 - main_loss: 0.8297 - aux1_loss: 0.8074 - aux2_loss: 0.8224 - main_accuracy: 0.6637 - aux1_accuracy: 0.6677 - aux2_accuracy: 0.6643\n",
      "Epoch 3/5\n",
      "332/332 [==============================] - 399s 1s/step - loss: 1.2051 - main_loss: 0.7582 - aux1_loss: 0.7390 - aux2_loss: 0.7507 - main_accuracy: 0.6816 - aux1_accuracy: 0.6931 - aux2_accuracy: 0.6852\n",
      "Epoch 4/5\n",
      "332/332 [==============================] - 399s 1s/step - loss: 1.1268 - main_loss: 0.7087 - aux1_loss: 0.6922 - aux2_loss: 0.7016 - main_accuracy: 0.7035 - aux1_accuracy: 0.7175 - aux2_accuracy: 0.7120\n",
      "Epoch 5/5\n",
      "332/332 [==============================] - 399s 1s/step - loss: 1.0554 - main_loss: 0.6651 - aux1_loss: 0.6437 - aux2_loss: 0.6572 - main_accuracy: 0.7358 - aux1_accuracy: 0.7425 - aux2_accuracy: 0.7410\n",
      "Using optimizer: SGD, Epoch: 5\n",
      "Epoch 1/5\n",
      "332/332 [==============================] - 399s 1s/step - loss: 0.8239 - main_loss: 0.5191 - aux1_loss: 0.5052 - aux2_loss: 0.5108 - main_accuracy: 0.8003 - aux1_accuracy: 0.8110 - aux2_accuracy: 0.8072\n",
      "Epoch 2/5\n",
      "332/332 [==============================] - 402s 1s/step - loss: 0.7787 - main_loss: 0.4896 - aux1_loss: 0.4788 - aux2_loss: 0.4850 - main_accuracy: 0.8172 - aux1_accuracy: 0.8165 - aux2_accuracy: 0.8163\n",
      "Epoch 3/5\n",
      "332/332 [==============================] - 397s 1s/step - loss: 0.7413 - main_loss: 0.4647 - aux1_loss: 0.4580 - aux2_loss: 0.4639 - main_accuracy: 0.8208 - aux1_accuracy: 0.8212 - aux2_accuracy: 0.8197\n",
      "Epoch 4/5\n",
      "332/332 [==============================] - 397s 1s/step - loss: 0.7384 - main_loss: 0.4613 - aux1_loss: 0.4606 - aux2_loss: 0.4630 - main_accuracy: 0.8238 - aux1_accuracy: 0.8259 - aux2_accuracy: 0.8255\n",
      "Epoch 5/5\n",
      "332/332 [==============================] - 398s 1s/step - loss: 0.7317 - main_loss: 0.4582 - aux1_loss: 0.4513 - aux2_loss: 0.4604 - main_accuracy: 0.8259 - aux1_accuracy: 0.8237 - aux2_accuracy: 0.8263\n",
      "Using optimizer: Adam, Epoch: 5\n",
      "Epoch 1/5\n",
      "332/332 [==============================] - 402s 1s/step - loss: 0.8222 - main_loss: 0.5186 - aux1_loss: 0.5015 - aux2_loss: 0.5106 - main_accuracy: 0.8003 - aux1_accuracy: 0.8099 - aux2_accuracy: 0.8063\n",
      "Epoch 2/5\n",
      "332/332 [==============================] - 401s 1s/step - loss: 0.7913 - main_loss: 0.4996 - aux1_loss: 0.4801 - aux2_loss: 0.4922 - main_accuracy: 0.8112 - aux1_accuracy: 0.8140 - aux2_accuracy: 0.8140\n",
      "Epoch 3/5\n",
      "332/332 [==============================] - 401s 1s/step - loss: 0.7705 - main_loss: 0.4863 - aux1_loss: 0.4712 - aux2_loss: 0.4761 - main_accuracy: 0.8203 - aux1_accuracy: 0.8231 - aux2_accuracy: 0.8255\n",
      "Epoch 4/5\n",
      "332/332 [==============================] - 400s 1s/step - loss: 0.7313 - main_loss: 0.4610 - aux1_loss: 0.4489 - aux2_loss: 0.4520 - main_accuracy: 0.8274 - aux1_accuracy: 0.8301 - aux2_accuracy: 0.8318\n",
      "Epoch 5/5\n",
      "332/332 [==============================] - 401s 1s/step - loss: 0.6812 - main_loss: 0.4306 - aux1_loss: 0.4129 - aux2_loss: 0.4224 - main_accuracy: 0.8421 - aux1_accuracy: 0.8482 - aux2_accuracy: 0.8435\n",
      "Using optimizer: SGD, Epoch: 5\n",
      "Epoch 1/5\n",
      "332/332 [==============================] - 401s 1s/step - loss: 0.5501 - main_loss: 0.3461 - aux1_loss: 0.3351 - aux2_loss: 0.3450 - main_accuracy: 0.8736 - aux1_accuracy: 0.8774 - aux2_accuracy: 0.8744\n",
      "Epoch 2/5\n",
      "332/332 [==============================] - 399s 1s/step - loss: 0.5154 - main_loss: 0.3263 - aux1_loss: 0.3147 - aux2_loss: 0.3157 - main_accuracy: 0.8821 - aux1_accuracy: 0.8844 - aux2_accuracy: 0.8891\n",
      "Epoch 3/5\n",
      "332/332 [==============================] - 399s 1s/step - loss: 0.4977 - main_loss: 0.3149 - aux1_loss: 0.3035 - aux2_loss: 0.3060 - main_accuracy: 0.8893 - aux1_accuracy: 0.8887 - aux2_accuracy: 0.8908\n",
      "Epoch 4/5\n",
      "332/332 [==============================] - 400s 1s/step - loss: 0.4956 - main_loss: 0.3128 - aux1_loss: 0.3003 - aux2_loss: 0.3091 - main_accuracy: 0.8906 - aux1_accuracy: 0.8955 - aux2_accuracy: 0.8912\n",
      "Epoch 5/5\n",
      "332/332 [==============================] - 399s 1s/step - loss: 0.4702 - main_loss: 0.2981 - aux1_loss: 0.2839 - aux2_loss: 0.2896 - main_accuracy: 0.8978 - aux1_accuracy: 0.8934 - aux2_accuracy: 0.8978\n"
     ]
    }
   ],
   "source": [
    "for i in range(len(optimizer)):\n",
    "    print('Using optimizer: ' + optimizer[i] + ', Epoch: ' + str(epochs[i]))\n",
    "    \n",
    "    model.compile(loss='categorical_crossentropy', \n",
    "                  loss_weights={'main': 1.0, 'aux1': 0.3, 'aux2': 0.3},\n",
    "                  optimizer=optimizer[i], metrics=['accuracy'])\n",
    "    \n",
    "    train_history = model.fit(\n",
    "            train_generator,\n",
    "            steps_per_epoch=EPOCH_STEPS,\n",
    "            epochs=epochs[i],\n",
    "            shuffle=True\n",
    "            )\n",
    "    if len(history_all) == 0:\n",
    "            history_all = {key: [] for key in train_history.history}\n",
    "    \n",
    "    for key in history_all:\n",
    "            history_all[key].extend(train_history.history[key])"
   ]
  },
  {
   "cell_type": "code",
   "execution_count": 70,
   "id": "1572c65e",
   "metadata": {},
   "outputs": [],
   "source": [
    "model.save(MODEL_NAME)"
   ]
  },
  {
   "cell_type": "code",
   "execution_count": 43,
   "id": "170219f0",
   "metadata": {},
   "outputs": [
    {
     "data": {
      "image/png": "[encoded data removed]",
      "text/plain": [
       "<Figure size 432x288 with 1 Axes>"
      ]
     },
     "metadata": {
      "needs_background": "light"
     },
     "output_type": "display_data"
    },
    {
     "data": {
      "image/png": "[encoded data removed]",
      "text/plain": [
       "<Figure size 432x288 with 1 Axes>"
      ]
     },
     "metadata": {
      "needs_background": "light"
     },
     "output_type": "display_data"
    }
   ],
   "source": [
    "# show train history\n",
    "def show_train_history(history, xlabel, ylabel, train):\n",
    "    for item in train:\n",
    "        plt.plot(history[item])\n",
    "    plt.title('Train History')\n",
    "    plt.xlabel(xlabel)\n",
    "    plt.ylabel(ylabel)\n",
    "    plt.legend(train, loc='upper left')\n",
    "    plt.show()\n",
    "\n",
    "show_train_history(history_all, 'Epoch', 'Accuracy', ('main_accuracy', 'aux1_accuracy', 'aux2_accuracy'))\n",
    "show_train_history(history_all, 'Epoch', 'Loss', ('main_loss', 'aux1_loss', 'aux2_loss'))"
   ]
  },
  {
   "cell_type": "code",
   "execution_count": 44,
   "id": "66c57220",
   "metadata": {},
   "outputs": [
    {
     "name": "stdout",
     "output_type": "stream",
     "text": [
      "dict_keys(['loss', 'main_loss', 'aux1_loss', 'aux2_loss', 'main_accuracy', 'aux1_accuracy', 'aux2_accuracy'])\n"
     ]
    }
   ],
   "source": [
    "print(train_history.history.keys())"
   ]
  },
  {
   "cell_type": "code",
   "execution_count": 45,
   "id": "2b460893",
   "metadata": {},
   "outputs": [],
   "source": [
    "from keras.models import load_model\n",
    "classifier=load_model('Ygooglenet_stroke2.h15')"
   ]
  },
  {
   "cell_type": "code",
   "execution_count": 59,
   "id": "6e6a75a2",
   "metadata": {},
   "outputs": [
    {
     "name": "stdout",
     "output_type": "stream",
     "text": [
      "Found 115 images belonging to 1 classes.\n"
     ]
    }
   ],
   "source": [
    "from keras.preprocessing.image import ImageDataGenerator\n",
    "path='C:\\\\Users\\\\Tri\\\\Desktop\\\\preprocessDataSet\\\\'\n",
    "test_data_dir=path+'test\\\\'\n",
    "test_datagen=ImageDataGenerator()\n",
    "test_generator = test_datagen.flow_from_directory(\n",
    "    test_data_dir,\n",
    "    target_size=(224,224),\n",
    "    color_mode=\"rgb\",\n",
    "    batch_size=BATCH_SIZE,\n",
    "    class_mode=\"categorical\",\n",
    "    shuffle=True,\n",
    "    seed=42\n",
    ")"
   ]
  },
  {
   "cell_type": "code",
   "execution_count": 67,
   "id": "041a2b7c",
   "metadata": {},
   "outputs": [
    {
     "name": "stderr",
     "output_type": "stream",
     "text": [
      "C:\\Users\\Tri\\AppData\\Local\\Temp/ipykernel_16108/3127084481.py:3: UserWarning: `Model.predict_generator` is deprecated and will be removed in a future version. Please use `Model.predict`, which supports generators.\n",
      "  pred = model.predict_generator(test_generator, steps = len(test_generator), verbose = 1)\n"
     ]
    },
    {
     "name": "stdout",
     "output_type": "stream",
     "text": [
      "8/8 [==============================] - 2s 205ms/step\n",
      "[[ 0  0 51]\n",
      " [ 0  0  0]\n",
      " [ 0  0  0]]\n"
     ]
    }
   ],
   "source": [
    "test_generator.reset()\n",
    "\n",
    "pred = model.predict_generator(test_generator, steps = len(test_generator), verbose = 1)\n",
    "\n",
    "predicted_class_indices = np.argmax(pred, axis = 1)\n",
    "print(predicted_class_indices)"
   ]
  },
  {
   "cell_type": "code",
   "execution_count": 71,
   "id": "2b73a05d",
   "metadata": {},
   "outputs": [
    {
     "ename": "ValueError",
     "evalue": "Data must be 1-dimensional",
     "output_type": "error",
     "traceback": [
      "\u001b[1;31m---------------------------------------------------------------------------\u001b[0m",
      "\u001b[1;31mValueError\u001b[0m                                Traceback (most recent call last)",
      "\u001b[1;32m~\\AppData\\Local\\Temp/ipykernel_16108/552862163.py\u001b[0m in \u001b[0;36m<module>\u001b[1;34m\u001b[0m\n\u001b[0;32m      3\u001b[0m     {\n\u001b[0;32m      4\u001b[0m         \u001b[1;34m'id'\u001b[0m\u001b[1;33m:\u001b[0m \u001b[0mpd\u001b[0m\u001b[1;33m.\u001b[0m\u001b[0mSeries\u001b[0m\u001b[1;33m(\u001b[0m\u001b[0mtest_generator\u001b[0m\u001b[1;33m.\u001b[0m\u001b[0mfilenames\u001b[0m\u001b[1;33m)\u001b[0m\u001b[1;33m,\u001b[0m\u001b[1;33m\u001b[0m\u001b[1;33m\u001b[0m\u001b[0m\n\u001b[1;32m----> 5\u001b[1;33m         \u001b[1;34m'label'\u001b[0m\u001b[1;33m:\u001b[0m \u001b[0mpd\u001b[0m\u001b[1;33m.\u001b[0m\u001b[0mSeries\u001b[0m\u001b[1;33m(\u001b[0m\u001b[0mpredicted_class_indices\u001b[0m\u001b[1;33m)\u001b[0m\u001b[1;33m\u001b[0m\u001b[1;33m\u001b[0m\u001b[0m\n\u001b[0m\u001b[0;32m      6\u001b[0m     })\n\u001b[0;32m      7\u001b[0m \u001b[0mresults_df1\u001b[0m\u001b[1;33m[\u001b[0m\u001b[1;34m'id'\u001b[0m\u001b[1;33m]\u001b[0m \u001b[1;33m=\u001b[0m \u001b[0mresults_df1\u001b[0m\u001b[1;33m.\u001b[0m\u001b[0mid\u001b[0m\u001b[1;33m.\u001b[0m\u001b[0mstr\u001b[0m\u001b[1;33m.\u001b[0m\u001b[0mextract\u001b[0m\u001b[1;33m(\u001b[0m\u001b[1;34m'(\\d+)'\u001b[0m\u001b[1;33m)\u001b[0m\u001b[1;33m\u001b[0m\u001b[1;33m\u001b[0m\u001b[0m\n",
      "\u001b[1;32m~\\anaconda3\\lib\\site-packages\\pandas\\core\\series.py\u001b[0m in \u001b[0;36m__init__\u001b[1;34m(self, data, index, dtype, name, copy, fastpath)\u001b[0m\n\u001b[0;32m    437\u001b[0m                     \u001b[0mdata\u001b[0m \u001b[1;33m=\u001b[0m \u001b[0mdata\u001b[0m\u001b[1;33m.\u001b[0m\u001b[0mcopy\u001b[0m\u001b[1;33m(\u001b[0m\u001b[1;33m)\u001b[0m\u001b[1;33m\u001b[0m\u001b[1;33m\u001b[0m\u001b[0m\n\u001b[0;32m    438\u001b[0m             \u001b[1;32melse\u001b[0m\u001b[1;33m:\u001b[0m\u001b[1;33m\u001b[0m\u001b[1;33m\u001b[0m\u001b[0m\n\u001b[1;32m--> 439\u001b[1;33m                 \u001b[0mdata\u001b[0m \u001b[1;33m=\u001b[0m \u001b[0msanitize_array\u001b[0m\u001b[1;33m(\u001b[0m\u001b[0mdata\u001b[0m\u001b[1;33m,\u001b[0m \u001b[0mindex\u001b[0m\u001b[1;33m,\u001b[0m \u001b[0mdtype\u001b[0m\u001b[1;33m,\u001b[0m \u001b[0mcopy\u001b[0m\u001b[1;33m)\u001b[0m\u001b[1;33m\u001b[0m\u001b[1;33m\u001b[0m\u001b[0m\n\u001b[0m\u001b[0;32m    440\u001b[0m \u001b[1;33m\u001b[0m\u001b[0m\n\u001b[0;32m    441\u001b[0m                 \u001b[0mmanager\u001b[0m \u001b[1;33m=\u001b[0m \u001b[0mget_option\u001b[0m\u001b[1;33m(\u001b[0m\u001b[1;34m\"mode.data_manager\"\u001b[0m\u001b[1;33m)\u001b[0m\u001b[1;33m\u001b[0m\u001b[1;33m\u001b[0m\u001b[0m\n",
      "\u001b[1;32m~\\anaconda3\\lib\\site-packages\\pandas\\core\\construction.py\u001b[0m in \u001b[0;36msanitize_array\u001b[1;34m(data, index, dtype, copy, raise_cast_failure, allow_2d)\u001b[0m\n\u001b[0;32m    574\u001b[0m                 \u001b[0msubarr\u001b[0m \u001b[1;33m=\u001b[0m \u001b[0mmaybe_infer_to_datetimelike\u001b[0m\u001b[1;33m(\u001b[0m\u001b[0msubarr\u001b[0m\u001b[1;33m)\u001b[0m\u001b[1;33m\u001b[0m\u001b[1;33m\u001b[0m\u001b[0m\n\u001b[0;32m    575\u001b[0m \u001b[1;33m\u001b[0m\u001b[0m\n\u001b[1;32m--> 576\u001b[1;33m     \u001b[0msubarr\u001b[0m \u001b[1;33m=\u001b[0m \u001b[0m_sanitize_ndim\u001b[0m\u001b[1;33m(\u001b[0m\u001b[0msubarr\u001b[0m\u001b[1;33m,\u001b[0m \u001b[0mdata\u001b[0m\u001b[1;33m,\u001b[0m \u001b[0mdtype\u001b[0m\u001b[1;33m,\u001b[0m \u001b[0mindex\u001b[0m\u001b[1;33m,\u001b[0m \u001b[0mallow_2d\u001b[0m\u001b[1;33m=\u001b[0m\u001b[0mallow_2d\u001b[0m\u001b[1;33m)\u001b[0m\u001b[1;33m\u001b[0m\u001b[1;33m\u001b[0m\u001b[0m\n\u001b[0m\u001b[0;32m    577\u001b[0m \u001b[1;33m\u001b[0m\u001b[0m\n\u001b[0;32m    578\u001b[0m     \u001b[1;32mif\u001b[0m \u001b[0misinstance\u001b[0m\u001b[1;33m(\u001b[0m\u001b[0msubarr\u001b[0m\u001b[1;33m,\u001b[0m \u001b[0mnp\u001b[0m\u001b[1;33m.\u001b[0m\u001b[0mndarray\u001b[0m\u001b[1;33m)\u001b[0m\u001b[1;33m:\u001b[0m\u001b[1;33m\u001b[0m\u001b[1;33m\u001b[0m\u001b[0m\n",
      "\u001b[1;32m~\\anaconda3\\lib\\site-packages\\pandas\\core\\construction.py\u001b[0m in \u001b[0;36m_sanitize_ndim\u001b[1;34m(result, data, dtype, index, allow_2d)\u001b[0m\n\u001b[0;32m    625\u001b[0m             \u001b[1;32mif\u001b[0m \u001b[0mallow_2d\u001b[0m\u001b[1;33m:\u001b[0m\u001b[1;33m\u001b[0m\u001b[1;33m\u001b[0m\u001b[0m\n\u001b[0;32m    626\u001b[0m                 \u001b[1;32mreturn\u001b[0m \u001b[0mresult\u001b[0m\u001b[1;33m\u001b[0m\u001b[1;33m\u001b[0m\u001b[0m\n\u001b[1;32m--> 627\u001b[1;33m             \u001b[1;32mraise\u001b[0m \u001b[0mValueError\u001b[0m\u001b[1;33m(\u001b[0m\u001b[1;34m\"Data must be 1-dimensional\"\u001b[0m\u001b[1;33m)\u001b[0m\u001b[1;33m\u001b[0m\u001b[1;33m\u001b[0m\u001b[0m\n\u001b[0m\u001b[0;32m    628\u001b[0m         \u001b[1;32mif\u001b[0m \u001b[0mis_object_dtype\u001b[0m\u001b[1;33m(\u001b[0m\u001b[0mdtype\u001b[0m\u001b[1;33m)\u001b[0m \u001b[1;32mand\u001b[0m \u001b[0misinstance\u001b[0m\u001b[1;33m(\u001b[0m\u001b[0mdtype\u001b[0m\u001b[1;33m,\u001b[0m \u001b[0mExtensionDtype\u001b[0m\u001b[1;33m)\u001b[0m\u001b[1;33m:\u001b[0m\u001b[1;33m\u001b[0m\u001b[1;33m\u001b[0m\u001b[0m\n\u001b[0;32m    629\u001b[0m             \u001b[1;31m# i.e. PandasDtype(\"O\")\u001b[0m\u001b[1;33m\u001b[0m\u001b[1;33m\u001b[0m\u001b[0m\n",
      "\u001b[1;31mValueError\u001b[0m: Data must be 1-dimensional"
     ]
    }
   ],
   "source": [
    "import pandas as pd\n",
    "results_df1 = pd.DataFrame(\n",
    "    {\n",
    "        'id': pd.Series(test_generator.filenames), \n",
    "        'label': pd.Series(predicted_class_indices)\n",
    "    })\n",
    "results_df1['id'] = results_df1.id.str.extract('(\\d+)')\n",
    "results_df1['id'] = pd.to_numeric(results_df1['id'], errors = 'coerce')\n",
    "results_df1.sort_values(by='id', inplace = True)\n",
    "\n",
    "results_df1.to_csv(\"GoogLeNetPredict.csv\", index=False)\n",
    "results_df1.head()"
   ]
  },
  {
   "cell_type": "code",
   "execution_count": null,
   "id": "877673fb",
   "metadata": {},
   "outputs": [],
   "source": [
    "df=pd.read_csv('GoogLeNetPredict.csv')\n",
    "df"
   ]
  },
  {
   "cell_type": "code",
   "execution_count": null,
   "id": "daf3272e",
   "metadata": {},
   "outputs": [],
   "source": [
    "df1=pd.read_csv('truthFile.csv')\n",
    "df1"
   ]
  },
  {
   "cell_type": "code",
   "execution_count": null,
   "id": "be4e7743",
   "metadata": {},
   "outputs": [],
   "source": [
    "tahmin=df['label']\n",
    "tahmin"
   ]
  },
  {
   "cell_type": "code",
   "execution_count": null,
   "id": "fe9ec36f",
   "metadata": {},
   "outputs": [],
   "source": [
    "orijinal=df1['label']\n",
    "orijinal"
   ]
  },
  {
   "cell_type": "code",
   "execution_count": null,
   "id": "8d4e88de",
   "metadata": {},
   "outputs": [],
   "source": [
    "class_names=[\"0\",\"1\",\"2\"]"
   ]
  },
  {
   "cell_type": "code",
   "execution_count": 50,
   "id": "b0d1f739",
   "metadata": {},
   "outputs": [
    {
     "ename": "NameError",
     "evalue": "name 'orijinal' is not defined",
     "output_type": "error",
     "traceback": [
      "\u001b[1;31m---------------------------------------------------------------------------\u001b[0m",
      "\u001b[1;31mNameError\u001b[0m                                 Traceback (most recent call last)",
      "\u001b[1;32m~\\AppData\\Local\\Temp/ipykernel_16108/1664218681.py\u001b[0m in \u001b[0;36m<module>\u001b[1;34m\u001b[0m\n\u001b[0;32m      1\u001b[0m \u001b[1;32mfrom\u001b[0m \u001b[0msklearn\u001b[0m\u001b[1;33m.\u001b[0m\u001b[0mmetrics\u001b[0m \u001b[1;32mimport\u001b[0m \u001b[0mclassification_report\u001b[0m\u001b[1;33m,\u001b[0m \u001b[0mconfusion_matrix\u001b[0m\u001b[1;33m\u001b[0m\u001b[1;33m\u001b[0m\u001b[0m\n\u001b[0;32m      2\u001b[0m \u001b[1;33m\u001b[0m\u001b[0m\n\u001b[1;32m----> 3\u001b[1;33m \u001b[0mprint\u001b[0m\u001b[1;33m(\u001b[0m\u001b[0mclassification_report\u001b[0m\u001b[1;33m(\u001b[0m\u001b[0morijinal\u001b[0m\u001b[1;33m,\u001b[0m \u001b[0mpredicted_class_indices\u001b[0m\u001b[1;33m,\u001b[0m \u001b[0mtarget_names\u001b[0m\u001b[1;33m=\u001b[0m\u001b[0mclass_names\u001b[0m\u001b[1;33m)\u001b[0m\u001b[1;33m)\u001b[0m\u001b[1;33m\u001b[0m\u001b[1;33m\u001b[0m\u001b[0m\n\u001b[0m\u001b[0;32m      4\u001b[0m \u001b[1;33m\u001b[0m\u001b[0m\n\u001b[0;32m      5\u001b[0m \u001b[0mprint\u001b[0m\u001b[1;33m(\u001b[0m\u001b[0mconfusion_matrix\u001b[0m\u001b[1;33m(\u001b[0m\u001b[0morijinal\u001b[0m\u001b[1;33m,\u001b[0m \u001b[0mpredicted_class_indices\u001b[0m\u001b[1;33m)\u001b[0m\u001b[1;33m)\u001b[0m\u001b[1;33m\u001b[0m\u001b[1;33m\u001b[0m\u001b[0m\n",
      "\u001b[1;31mNameError\u001b[0m: name 'orijinal' is not defined"
     ]
    }
   ],
   "source": [
    "from sklearn.metrics import classification_report, confusion_matrix\n",
    "\n",
    "print(classification_report(orijinal, predicted_class_indices, target_names=class_names))\n",
    "\n",
    "print(confusion_matrix(orijinal, predicted_class_indices))"
   ]
  },
  {
   "cell_type": "code",
   "execution_count": null,
   "id": "251a9662",
   "metadata": {},
   "outputs": [],
   "source": []
  }
 ],
 "metadata": {
  "kernelspec": {
   "display_name": "Python 3 (ipykernel)",
   "language": "python",
   "name": "python3"
  },
  "language_info": {
   "codemirror_mode": {
    "name": "ipython",
    "version": 3
   },
   "file_extension": ".py",
   "mimetype": "text/x-python",
   "name": "python",
   "nbconvert_exporter": "python",
   "pygments_lexer": "ipython3",
   "version": "3.9.7"
  }
 },
 "nbformat": 4,
 "nbformat_minor": 5
}
